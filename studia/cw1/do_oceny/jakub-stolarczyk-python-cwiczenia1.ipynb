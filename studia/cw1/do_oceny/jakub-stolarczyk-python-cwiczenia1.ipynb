{
 "cells": [
  {
   "cell_type": "markdown",
   "metadata": {},
   "source": [
    "# Ćwiczenia 1\n",
    "#### autor: Jakub Stolarczyk"
   ]
  },
  {
   "cell_type": "markdown",
   "metadata": {},
   "source": [
    "**1. dla pobranych z klawiatury dwóch liczb zwróci ich iloczyn.**"
   ]
  },
  {
   "cell_type": "code",
   "execution_count": 1,
   "metadata": {},
   "outputs": [
    {
     "name": "stdout",
     "output_type": "stream",
     "text": [
      "3\n",
      "4\n",
      "12\n"
     ]
    }
   ],
   "source": [
    "a = int(input())\n",
    "b = int(input())\n",
    "print(a*b)"
   ]
  },
  {
   "cell_type": "markdown",
   "metadata": {},
   "source": [
    "**2. sprawdzi, czy podana liczba jest parzysta.**"
   ]
  },
  {
   "cell_type": "code",
   "execution_count": 2,
   "metadata": {},
   "outputs": [
    {
     "name": "stdout",
     "output_type": "stream",
     "text": [
      "4\n",
      "4 jest parzyste\n"
     ]
    }
   ],
   "source": [
    "a = int(input())\n",
    "if (a%2) == 0:\n",
    "    print(str(a)+\" jest parzyste\")\n",
    "else:\n",
    "    print(str(a)+\" jest nie parzyste\")"
   ]
  },
  {
   "cell_type": "markdown",
   "metadata": {},
   "source": [
    "**3. obliczy sumę kwadratów kolejnych liczb naturalnych mniejszych od zadanej wartości.**"
   ]
  },
  {
   "cell_type": "code",
   "execution_count": 1,
   "metadata": {},
   "outputs": [
    {
     "name": "stdout",
     "output_type": "stream",
     "text": [
      "10\n",
      "200\n",
      "162\n",
      "128\n",
      "98\n",
      "72\n",
      "50\n",
      "32\n",
      "18\n",
      "8\n",
      "2\n",
      "0\n"
     ]
    }
   ],
   "source": [
    "a = int(input())\n",
    "while a>=0:\n",
    "    b=a\n",
    "    print((b*b)+(b*b))\n",
    "    a-=1\n"
   ]
  },
  {
   "cell_type": "markdown",
   "metadata": {},
   "source": [
    "**4. sprawdzi, czy podana liczba jest pierwsza**"
   ]
  },
  {
   "cell_type": "code",
   "execution_count": 3,
   "metadata": {},
   "outputs": [
    {
     "name": "stdout",
     "output_type": "stream",
     "text": [
      "3\n",
      "Czy liczba 3 to liczba pierwsza? True\n"
     ]
    }
   ],
   "source": [
    "def czyLiczbaPierwsza(n):\n",
    "    for i in range(2, n):\n",
    "        if n % i == 0:\n",
    "            return False\n",
    "    return True\n",
    "\n",
    "a=int(input())\n",
    "print(\"Czy liczba \"+str(a)+\" to liczba pierwsza? \"+ str(czyLiczbaPierwsza(a)))"
   ]
  },
  {
   "cell_type": "markdown",
   "metadata": {},
   "source": [
    "**18. dla zadanego stringa zwróci liste słów, na które można go podzielić.**"
   ]
  },
  {
   "cell_type": "code",
   "execution_count": 4,
   "metadata": {},
   "outputs": [
    {
     "name": "stdout",
     "output_type": "stream",
     "text": [
      "podaj string: Ala ma kota\n",
      "['Ala', 'ma', 'kota']\n"
     ]
    }
   ],
   "source": [
    "s = input(\"podaj string: \")\n",
    "listaSlow = []\n",
    "miejsce = 0\n",
    "\n",
    "for i in s.split(\" \"):\n",
    "    listaSlow.insert(miejsce, i)\n",
    "    miejsce+=1\n",
    "\n",
    "print(listaSlow)"
   ]
  },
  {
   "cell_type": "markdown",
   "metadata": {},
   "source": [
    "**15. dla danego łańcucha znaków zwróci informację ile jest w nim dużych, a ile małych liter**"
   ]
  },
  {
   "cell_type": "code",
   "execution_count": 5,
   "metadata": {},
   "outputs": [
    {
     "name": "stdout",
     "output_type": "stream",
     "text": [
      "podaj string do liczenia wielkosci: Ala ma DUŻEGO kota\n",
      "malych liter: 8\n",
      "duzych liter: 7\n"
     ]
    }
   ],
   "source": [
    "s=input(\"podaj string do liczenia wielkosci: \")\n",
    "lowerCounter=0\n",
    "upperCounter=0\n",
    "\n",
    "for i in s:\n",
    "    if(i.islower()):\n",
    "        lowerCounter+=1\n",
    "    elif(i.isupper()):\n",
    "        upperCounter+=1\n",
    "\n",
    "print(\"malych liter: \"+str(lowerCounter))\n",
    "print(\"duzych liter: \"+str(upperCounter))"
   ]
  },
  {
   "cell_type": "markdown",
   "metadata": {},
   "source": [
    "**8. przedstawi zadaną liczbę w postaci binarnej**"
   ]
  },
  {
   "cell_type": "code",
   "execution_count": 6,
   "metadata": {},
   "outputs": [
    {
     "name": "stdout",
     "output_type": "stream",
     "text": [
      "123\n",
      "0b1111011\n"
     ]
    }
   ],
   "source": [
    "a=int(input())\n",
    "print(bin(a))"
   ]
  },
  {
   "cell_type": "markdown",
   "metadata": {},
   "source": [
    "**14. dla zadanego łancucha znaków zwróci łańcuch ze znakami w odwrotnej kolejności**"
   ]
  },
  {
   "cell_type": "code",
   "execution_count": 7,
   "metadata": {},
   "outputs": [
    {
     "name": "stdout",
     "output_type": "stream",
     "text": [
      "Mam SUPER rakiete\n",
      "eteikar REPUS maM\n"
     ]
    }
   ],
   "source": [
    "a=input()[::-1]\n",
    "print(a)"
   ]
  },
  {
   "cell_type": "markdown",
   "metadata": {},
   "source": [
    "**10. dla danego n obliczy n! . Podaj różne rozwiązania tego problemu**"
   ]
  },
  {
   "cell_type": "code",
   "execution_count": 8,
   "metadata": {},
   "outputs": [
    {
     "name": "stdout",
     "output_type": "stream",
     "text": [
      "5\n",
      "120\n"
     ]
    }
   ],
   "source": [
    "def silnia(n):\n",
    "    if n > 1:\n",
    "        return n*silnia(n-1)\n",
    "    return 1\n",
    "\n",
    "a=int(input())\n",
    "print(silnia(a))"
   ]
  },
  {
   "cell_type": "markdown",
   "metadata": {},
   "source": [
    "**11. oblicza n-tą liczbę Fibonacciego (n duże).**"
   ]
  },
  {
   "cell_type": "code",
   "execution_count": 9,
   "metadata": {},
   "outputs": [
    {
     "name": "stdout",
     "output_type": "stream",
     "text": [
      "24\n",
      "75025\n"
     ]
    }
   ],
   "source": [
    "def fib(n):\n",
    "    if n == 0 or n == 1:\n",
    "        return 1\n",
    "    else:\n",
    "        return fib(n-1) + fib(n-2)\n",
    "a = int(input())\n",
    "print(fib(a))"
   ]
  },
  {
   "cell_type": "markdown",
   "metadata": {},
   "source": [
    "**12. dla dowolnej ilości argumentów zwróci ich skumulowane sumy częściowe.**"
   ]
  },
  {
   "cell_type": "code",
   "execution_count": 11,
   "metadata": {
    "scrolled": true
   },
   "outputs": [
    {
     "name": "stdout",
     "output_type": "stream",
     "text": [
      "Suma podanych liczb: 0\n",
      "Podaj liczbe / wpisz 'k' aby zakonczyc: 4\n",
      "Suma podanych liczb: 4\n",
      "Podaj liczbe / wpisz 'k' aby zakonczyc: 5\n",
      "Suma podanych liczb: 9\n",
      "Podaj liczbe / wpisz 'k' aby zakonczyc: 6\n",
      "Suma podanych liczb: 15\n",
      "Podaj liczbe / wpisz 'k' aby zakonczyc: 7\n",
      "Suma podanych liczb: 22\n",
      "Podaj liczbe / wpisz 'k' aby zakonczyc: 6\n",
      "Suma podanych liczb: 28\n",
      "Podaj liczbe / wpisz 'k' aby zakonczyc: 2\n",
      "Suma podanych liczb: 30\n",
      "Podaj liczbe / wpisz 'k' aby zakonczyc: k\n",
      "Twoja koncowa suma to: 30\n",
      "Koniec\n"
     ]
    }
   ],
   "source": [
    "suma = 0\n",
    "while True:\n",
    "    print(\"Suma podanych liczb: \"+str(suma))\n",
    "    decyzja = input(\"Podaj liczbe / wpisz 'k' aby zakonczyc: \")\n",
    "    if decyzja == \"k\":\n",
    "        print(\"Twoja koncowa suma to: \"+str(suma))\n",
    "        print(\"Koniec\")\n",
    "        break\n",
    "    else:\n",
    "        suma +=int(decyzja)"
   ]
  },
  {
   "cell_type": "markdown",
   "metadata": {},
   "source": [
    "**13. dla dowolnej ilości argumentów liczbowych zwróci ich średnią arytmetyczną**"
   ]
  },
  {
   "cell_type": "code",
   "execution_count": 10,
   "metadata": {},
   "outputs": [
    {
     "name": "stdout",
     "output_type": "stream",
     "text": [
      "koniec liczenia? t/n: n\n",
      "podaj liczbe: 4\n",
      "koniec liczenia? t/n: n\n",
      "podaj liczbe: 5\n",
      "koniec liczenia? t/n: n\n",
      "podaj liczbe: 7\n",
      "koniec liczenia? t/n: t\n",
      "koniec\n",
      "srednia to 5.333333333333333\n"
     ]
    }
   ],
   "source": [
    "suma = 0\n",
    "ilosc = 0\n",
    "while True:\n",
    "    decyzja = input(\"koniec liczenia? t/n: \")\n",
    "    if decyzja == \"t\":\n",
    "        srednia = suma/ilosc\n",
    "        print(\"koniec\")\n",
    "        print(\"srednia to \"+str(srednia))\n",
    "        break\n",
    "    else:\n",
    "        liczba = int(input(\"podaj liczbe: \"))\n",
    "        suma +=liczba\n",
    "        ilosc+=1"
   ]
  }
 ],
 "metadata": {
  "interpreter": {
   "hash": "ef7f9a8012d9131766e31894c279374cc63c73121ed4db3b9e67a294a4bf0e74"
  },
  "kernelspec": {
   "display_name": "Python 3 (ipykernel)",
   "language": "python",
   "name": "python3"
  },
  "language_info": {
   "codemirror_mode": {
    "name": "ipython",
    "version": 3
   },
   "file_extension": ".py",
   "mimetype": "text/x-python",
   "name": "python",
   "nbconvert_exporter": "python",
   "pygments_lexer": "ipython3",
   "version": "3.9.7"
  }
 },
 "nbformat": 4,
 "nbformat_minor": 2
}
